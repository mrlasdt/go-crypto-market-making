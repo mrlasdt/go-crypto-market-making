{
 "cells": [
  {
   "cell_type": "markdown",
   "metadata": {},
   "source": [
    "# Test gateway connection"
   ]
  },
  {
   "cell_type": "code",
   "execution_count": 1,
   "metadata": {},
   "outputs": [],
   "source": [
    "import ssl\n",
    "import aiohttp\n",
    "\n",
    "cert_path = \"/home/will/.hummingbot-gateway/hummingbot-gateway-0010027e/certs\"\n",
    "ssl_ctx = ssl.create_default_context(cafile=f\"{cert_path}/ca_cert.pem\")\n",
    "ssl_ctx.load_cert_chain(certfile=f\"{cert_path}/client_cert.pem\",\n",
    "                    keyfile=f\"{cert_path}/client_key.pem\",\n",
    "                    password=\"13149920\")\n",
    "conn = aiohttp.TCPConnector(ssl=ssl_ctx)\n",
    "client = aiohttp.ClientSession(connector=conn)\n"
   ]
  },
  {
   "cell_type": "code",
   "execution_count": 4,
   "metadata": {},
   "outputs": [
    {
     "data": {
      "text/plain": [
       "<ClientResponse(https://localhost:15888) [200 OK]>\n",
       "<CIMultiDictProxy('X-Powered-By': 'Express', 'Content-Type': 'application/json; charset=utf-8', 'Content-Length': '15', 'Etag': 'W/\"f-VaSQ4oDUiZblZNAEkkN+sX+q3Sg\"', 'Date': 'Tue, 06 Dec 2022 09:13:51 GMT', 'Connection': 'keep-alive', 'Keep-Alive': 'timeout=5')>"
      ]
     },
     "execution_count": 4,
     "metadata": {},
     "output_type": "execute_result"
    }
   ],
   "source": [
    "url = \"https://localhost:15888\"\n",
    "resp = await client.get(url)\n",
    "resp\n"
   ]
  }
 ],
 "metadata": {
  "kernelspec": {
   "display_name": "Python 3.8.2 ('hummingbot')",
   "language": "python",
   "name": "python3"
  },
  "language_info": {
   "codemirror_mode": {
    "name": "ipython",
    "version": 3
   },
   "file_extension": ".py",
   "mimetype": "text/x-python",
   "name": "python",
   "nbconvert_exporter": "python",
   "pygments_lexer": "ipython3",
   "version": "3.8.2"
  },
  "orig_nbformat": 4,
  "vscode": {
   "interpreter": {
    "hash": "3029ca54db584cf02ec374ca37a2fe0e6f05c01933e420c1fa0ca0b03ffe28d6"
   }
  }
 },
 "nbformat": 4,
 "nbformat_minor": 2
}
